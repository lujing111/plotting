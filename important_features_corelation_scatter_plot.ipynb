{
 "cells": [
  {
   "cell_type": "code",
   "execution_count": 1,
   "metadata": {},
   "outputs": [],
   "source": [
    "import numpy as np\n",
    "import scipy.io\n",
    "import matplotlib.pyplot as plt\n",
    "import pandas as pd\n",
    "from  pandas import DataFrame\n",
    "from pandas import Series, ExcelWriter\n",
    "import seaborn as sns"
   ]
  },
  {
   "cell_type": "code",
   "execution_count": 4,
   "metadata": {},
   "outputs": [
    {
     "name": "stdout",
     "output_type": "stream",
     "text": [
      "C:\\Users\\Administrator\\Desktop\n"
     ]
    }
   ],
   "source": [
    "cd \"C:\\Users\\Administrator\\Desktop\""
   ]
  },
  {
   "cell_type": "code",
   "execution_count": 6,
   "metadata": {},
   "outputs": [
    {
     "data": {
      "text/html": [
       "<div>\n",
       "<style scoped>\n",
       "    .dataframe tbody tr th:only-of-type {\n",
       "        vertical-align: middle;\n",
       "    }\n",
       "\n",
       "    .dataframe tbody tr th {\n",
       "        vertical-align: top;\n",
       "    }\n",
       "\n",
       "    .dataframe thead th {\n",
       "        text-align: right;\n",
       "    }\n",
       "</style>\n",
       "<table border=\"1\" class=\"dataframe\">\n",
       "  <thead>\n",
       "    <tr style=\"text-align: right;\">\n",
       "      <th></th>\n",
       "      <th>delta</th>\n",
       "      <th>theta</th>\n",
       "      <th>alpha</th>\n",
       "      <th>beta</th>\n",
       "      <th>gamma</th>\n",
       "      <th>MMN</th>\n",
       "      <th>P300</th>\n",
       "      <th>WISC_digit_span</th>\n",
       "      <th>z_digit_span</th>\n",
       "    </tr>\n",
       "  </thead>\n",
       "  <tbody>\n",
       "    <tr>\n",
       "      <th>0</th>\n",
       "      <td>-0.593168</td>\n",
       "      <td>0.835782</td>\n",
       "      <td>0.827260</td>\n",
       "      <td>-0.290495</td>\n",
       "      <td>-0.625505</td>\n",
       "      <td>-0.137721</td>\n",
       "      <td>1.581732</td>\n",
       "      <td>8</td>\n",
       "      <td>-1.18411</td>\n",
       "    </tr>\n",
       "    <tr>\n",
       "      <th>1</th>\n",
       "      <td>1.303410</td>\n",
       "      <td>-0.944143</td>\n",
       "      <td>-0.391997</td>\n",
       "      <td>-0.927903</td>\n",
       "      <td>-0.614093</td>\n",
       "      <td>0.589319</td>\n",
       "      <td>0.290375</td>\n",
       "      <td>7</td>\n",
       "      <td>-1.49693</td>\n",
       "    </tr>\n",
       "    <tr>\n",
       "      <th>2</th>\n",
       "      <td>-0.217698</td>\n",
       "      <td>1.999952</td>\n",
       "      <td>-0.275707</td>\n",
       "      <td>-0.759792</td>\n",
       "      <td>-0.513451</td>\n",
       "      <td>-0.461040</td>\n",
       "      <td>0.178460</td>\n",
       "      <td>8</td>\n",
       "      <td>-1.18411</td>\n",
       "    </tr>\n",
       "    <tr>\n",
       "      <th>3</th>\n",
       "      <td>0.066568</td>\n",
       "      <td>1.643078</td>\n",
       "      <td>-1.034230</td>\n",
       "      <td>-0.430772</td>\n",
       "      <td>-0.356651</td>\n",
       "      <td>-0.202876</td>\n",
       "      <td>-0.102940</td>\n",
       "      <td>10</td>\n",
       "      <td>-0.55847</td>\n",
       "    </tr>\n",
       "    <tr>\n",
       "      <th>4</th>\n",
       "      <td>-0.452034</td>\n",
       "      <td>0.898479</td>\n",
       "      <td>0.019833</td>\n",
       "      <td>-0.675058</td>\n",
       "      <td>-0.500188</td>\n",
       "      <td>0.948107</td>\n",
       "      <td>0.018988</td>\n",
       "      <td>12</td>\n",
       "      <td>0.06717</td>\n",
       "    </tr>\n",
       "  </tbody>\n",
       "</table>\n",
       "</div>"
      ],
      "text/plain": [
       "      delta     theta     alpha      beta     gamma       MMN      P300  \\\n",
       "0 -0.593168  0.835782  0.827260 -0.290495 -0.625505 -0.137721  1.581732   \n",
       "1  1.303410 -0.944143 -0.391997 -0.927903 -0.614093  0.589319  0.290375   \n",
       "2 -0.217698  1.999952 -0.275707 -0.759792 -0.513451 -0.461040  0.178460   \n",
       "3  0.066568  1.643078 -1.034230 -0.430772 -0.356651 -0.202876 -0.102940   \n",
       "4 -0.452034  0.898479  0.019833 -0.675058 -0.500188  0.948107  0.018988   \n",
       "\n",
       "   WISC_digit_span  z_digit_span  \n",
       "0                8      -1.18411  \n",
       "1                7      -1.49693  \n",
       "2                8      -1.18411  \n",
       "3               10      -0.55847  \n",
       "4               12       0.06717  "
      ]
     },
     "execution_count": 6,
     "metadata": {},
     "output_type": "execute_result"
    }
   ],
   "source": [
    "data = pd.read_excel('EEG_predict_digit_span_important features_correlation.xlsx', 'Sheet3')\n",
    "data.head(5)"
   ]
  },
  {
   "cell_type": "code",
   "execution_count": 18,
   "metadata": {},
   "outputs": [
    {
     "data": {
      "text/plain": [
       "Index(['MMN', 'P300'], dtype='object')"
      ]
     },
     "execution_count": 18,
     "metadata": {},
     "output_type": "execute_result"
    }
   ],
   "source": [
    "y = data[\"WISC_digit_span\"]\n",
    "#x = data[\"close_delta\"]\n",
    "column = data.columns[5:7]\n",
    "column"
   ]
  },
  {
   "cell_type": "code",
   "execution_count": 154,
   "metadata": {},
   "outputs": [
    {
     "name": "stderr",
     "output_type": "stream",
     "text": [
      "C:\\Anaconda3\\lib\\site-packages\\seaborn\\_decorators.py:43: FutureWarning: Pass the following variables as keyword args: x, y. From version 0.12, the only valid positional argument will be `data`, and passing other arguments without an explicit keyword will result in an error or misinterpretation.\n",
      "  FutureWarning\n"
     ]
    }
   ],
   "source": [
    "a = sns.regplot(x, y,scatter_kws={'s':8,\"alpha\":0.9},ax = ax[i])"
   ]
  },
  {
   "cell_type": "code",
   "execution_count": 13,
   "metadata": {},
   "outputs": [
    {
     "name": "stderr",
     "output_type": "stream",
     "text": [
      "C:\\Anaconda3\\lib\\site-packages\\seaborn\\_decorators.py:43: FutureWarning: Pass the following variables as keyword args: x, y. From version 0.12, the only valid positional argument will be `data`, and passing other arguments without an explicit keyword will result in an error or misinterpretation.\n",
      "  FutureWarning\n"
     ]
    },
    {
     "data": {
      "image/png": "[encoded data removed]",
      "text/plain": [
       "<Figure size 216x144 with 1 Axes>"
      ]
     },
     "metadata": {
      "needs_background": "light"
     },
     "output_type": "display_data"
    },
    {
     "name": "stderr",
     "output_type": "stream",
     "text": [
      "C:\\Anaconda3\\lib\\site-packages\\ipykernel_launcher.py:15: MatplotlibDeprecationWarning: savefig() got unexpected keyword argument \"quality\" which is no longer supported as of 3.3 and will become an error two minor releases later\n",
      "  from ipykernel import kernelapp as app\n"
     ]
    }
   ],
   "source": [
    "plt.figure(figsize=(3,2))\n",
    "a = sns.regplot(x, y,scatter_kws={'s':8,\"alpha\":0.9})\n",
    "a.spines['top'].set_visible(False)  #去掉上边框\n",
    "a.spines['right'].set_visible(False) #去掉右边框\n",
    "a.spines['bottom'].set_linewidth(1.5)#x轴变粗\n",
    "a.spines['left'].set_linewidth(1.5)#y轴变粗\n",
    "a.set_xlabel(\"close_theta\",labelpad = 3, fontdict={'weight': 'normal', 'size': 13}) #设置x轴名称\n",
    "a.set_ylabel('') #设置y轴名称\n",
    "a.set_xlim(-3, 3)\n",
    "a.set_ylim(-2.5, 2.5)\n",
    "a.tick_params(axis='both',pad=5,direction='in',width=1.5,labelsize=12)#坐标轴上刻度的粗细\n",
    "plt.show()\n",
    "#fig.tight_layout()\n",
    "fig = a.get_figure()\n",
    "fig.savefig(\"alpha_peak.png\",quality=95, dpi=800)"
   ]
  },
  {
   "cell_type": "code",
   "execution_count": 19,
   "metadata": {},
   "outputs": [
    {
     "name": "stderr",
     "output_type": "stream",
     "text": [
      "C:\\Anaconda3\\lib\\site-packages\\seaborn\\_decorators.py:43: FutureWarning: Pass the following variables as keyword args: x, y. From version 0.12, the only valid positional argument will be `data`, and passing other arguments without an explicit keyword will result in an error or misinterpretation.\n",
      "  FutureWarning\n",
      "C:\\Anaconda3\\lib\\site-packages\\seaborn\\_decorators.py:43: FutureWarning: Pass the following variables as keyword args: x, y. From version 0.12, the only valid positional argument will be `data`, and passing other arguments without an explicit keyword will result in an error or misinterpretation.\n",
      "  FutureWarning\n",
      "C:\\Anaconda3\\lib\\site-packages\\ipykernel_launcher.py:20: MatplotlibDeprecationWarning: savefig() got unexpected keyword argument \"quality\" which is no longer supported as of 3.3 and will become an error two minor releases later\n"
     ]
    },
    {
     "data": {
      "image/png": "[encoded data removed]",
      "text/plain": [
       "<Figure size 288x144 with 2 Axes>"
      ]
     },
     "metadata": {
      "needs_background": "light"
     },
     "output_type": "display_data"
    }
   ],
   "source": [
    "fig, ax = plt.subplots(1,2)\n",
    "fig.set_size_inches(4,2)\n",
    "ax = ax.flatten()\n",
    "\n",
    "for i in range(2):\n",
    "    x = data[column[i]]\n",
    "    a = sns.regplot(x, y,scatter_kws={'s':8,\"alpha\":0.9},ax = ax[i])\n",
    "    a.spines['top'].set_visible(False)  #去掉上边框\n",
    "    a.spines['right'].set_visible(False) #去掉右边框\n",
    "    a.spines['bottom'].set_linewidth(1.5)#x轴变粗\n",
    "    a.spines['left'].set_linewidth(1.5)#y轴变粗\n",
    "    a.set_xlabel(column[i],labelpad = 3, fontdict={'weight': 'normal', 'size': 13}) #设置x轴名称\n",
    "    a.set_ylabel('') #设置y轴名称\n",
    "    a.set_xlim(-2.5, 2.5)\n",
    "    a.set_ylim(5,20)\n",
    "    a.tick_params(axis='both',pad=5,direction='in',width=1.5,labelsize=12)#坐标轴上刻度的粗细\n",
    "    #plt.xlabel(column[i],labelpad = 3, fontdict={'weight': 'normal', 'size': 13})\n",
    "fig.tight_layout()\n",
    "fig = a.get_figure()\n",
    "fig.savefig(\"task ds important feature scatter plot.png\",quality=95, dpi=800)\n",
    "#fig.colorbar(ax=[ax[0], ax[1], ax[2], ax[3], ax[4]], fraction=0.01, pad=0.05)"
   ]
  },
  {
   "cell_type": "code",
   "execution_count": 77,
   "metadata": {},
   "outputs": [],
   "source": [
    "sns.lmplot?"
   ]
  },
  {
   "cell_type": "code",
   "execution_count": 78,
   "metadata": {},
   "outputs": [],
   "source": [
    "sns.regplot?"
   ]
  },
  {
   "cell_type": "code",
   "execution_count": null,
   "metadata": {},
   "outputs": [],
   "source": [
    "ax,xstick"
   ]
  },
  {
   "cell_type": "code",
   "execution_count": 116,
   "metadata": {},
   "outputs": [],
   "source": [
    "plt.ylabel?"
   ]
  }
 ],
 "metadata": {
  "kernelspec": {
   "display_name": "Python 3",
   "language": "python",
   "name": "python3"
  },
  "language_info": {
   "codemirror_mode": {
    "name": "ipython",
    "version": 3
   },
   "file_extension": ".py",
   "mimetype": "text/x-python",
   "name": "python",
   "nbconvert_exporter": "python",
   "pygments_lexer": "ipython3",
   "version": "3.7.9"
  }
 },
 "nbformat": 4,
 "nbformat_minor": 4
}
