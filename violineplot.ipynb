{
 "cells": [
  {
   "cell_type": "code",
   "execution_count": 1,
   "metadata": {},
   "outputs": [],
   "source": [
    "import numpy as np\n",
    "import pandas as pd\n",
    "import matplotlib.pyplot as plt\n",
    "import seaborn as sns\n",
    "from pandas import Series,DataFrame\n",
    "import plotly_express as px\n",
    "from matplotlib.ticker import MultipleLocator, FormatStrFormatter\n",
    "\n"
   ]
  },
  {
   "cell_type": "code",
   "execution_count": 2,
   "metadata": {},
   "outputs": [
    {
     "name": "stdout",
     "output_type": "stream",
     "text": [
      "C:\\Users\\Administrator\\Desktop\\final_analysis\\根据匹配后(163)的数据计算静息态和任务态预测WISC\n"
     ]
    }
   ],
   "source": [
    "cd \"C:\\Users\\Administrator\\Desktop\\final_analysis\\根据匹配后(163)的数据计算静息态和任务态预测WISC\\\""
   ]
  },
  {
   "cell_type": "code",
   "execution_count": 3,
   "metadata": {},
   "outputs": [
    {
     "data": {
      "text/html": [
       "<div>\n",
       "<style scoped>\n",
       "    .dataframe tbody tr th:only-of-type {\n",
       "        vertical-align: middle;\n",
       "    }\n",
       "\n",
       "    .dataframe tbody tr th {\n",
       "        vertical-align: top;\n",
       "    }\n",
       "\n",
       "    .dataframe thead th {\n",
       "        text-align: right;\n",
       "    }\n",
       "</style>\n",
       "<table border=\"1\" class=\"dataframe\">\n",
       "  <thead>\n",
       "    <tr style=\"text-align: right;\">\n",
       "      <th></th>\n",
       "      <th>type</th>\n",
       "      <th>forward_cor</th>\n",
       "      <th>forward_R2</th>\n",
       "      <th>backward_cor</th>\n",
       "      <th>backward_R2</th>\n",
       "      <th>classify</th>\n",
       "    </tr>\n",
       "  </thead>\n",
       "  <tbody>\n",
       "    <tr>\n",
       "      <th>0</th>\n",
       "      <td>close</td>\n",
       "      <td>0.415960</td>\n",
       "      <td>0.142378</td>\n",
       "      <td>0.671141</td>\n",
       "      <td>0.439190</td>\n",
       "      <td>resting</td>\n",
       "    </tr>\n",
       "    <tr>\n",
       "      <th>1</th>\n",
       "      <td>close</td>\n",
       "      <td>0.219323</td>\n",
       "      <td>-0.052096</td>\n",
       "      <td>0.720757</td>\n",
       "      <td>0.509976</td>\n",
       "      <td>resting</td>\n",
       "    </tr>\n",
       "    <tr>\n",
       "      <th>2</th>\n",
       "      <td>close</td>\n",
       "      <td>0.391100</td>\n",
       "      <td>0.148319</td>\n",
       "      <td>0.631340</td>\n",
       "      <td>0.364402</td>\n",
       "      <td>resting</td>\n",
       "    </tr>\n",
       "    <tr>\n",
       "      <th>3</th>\n",
       "      <td>close</td>\n",
       "      <td>0.518380</td>\n",
       "      <td>0.208261</td>\n",
       "      <td>0.689711</td>\n",
       "      <td>0.471804</td>\n",
       "      <td>resting</td>\n",
       "    </tr>\n",
       "    <tr>\n",
       "      <th>4</th>\n",
       "      <td>close</td>\n",
       "      <td>0.482945</td>\n",
       "      <td>0.227013</td>\n",
       "      <td>0.626324</td>\n",
       "      <td>0.182297</td>\n",
       "      <td>resting</td>\n",
       "    </tr>\n",
       "  </tbody>\n",
       "</table>\n",
       "</div>"
      ],
      "text/plain": [
       "    type  forward_cor  forward_R2  backward_cor  backward_R2 classify\n",
       "0  close     0.415960    0.142378      0.671141     0.439190  resting\n",
       "1  close     0.219323   -0.052096      0.720757     0.509976  resting\n",
       "2  close     0.391100    0.148319      0.631340     0.364402  resting\n",
       "3  close     0.518380    0.208261      0.689711     0.471804  resting\n",
       "4  close     0.482945    0.227013      0.626324     0.182297  resting"
      ]
     },
     "execution_count": 3,
     "metadata": {},
     "output_type": "execute_result"
    }
   ],
   "source": [
    "data = pd.read_excel(\"EEG_forward_backward_cor_R2.xlsx\",\"Sheet2\")\n",
    "data.head(5)"
   ]
  },
  {
   "cell_type": "code",
   "execution_count": 4,
   "metadata": {},
   "outputs": [],
   "source": [
    "#classify= data[data.columns[0]]\n",
    "#cor = data[data.columns[1]]\n",
    "#R2 = data[data.columns[2]]\n",
    "ds_cor = data[data.columns[3]]\n",
    "ds_R2 = data[data.columns[4]]\n",
    "classify = data[data.columns[5]]"
   ]
  },
  {
   "cell_type": "code",
   "execution_count": 30,
   "metadata": {},
   "outputs": [],
   "source": [
    "sns.boxplot?"
   ]
  },
  {
   "cell_type": "code",
   "execution_count": 21,
   "metadata": {},
   "outputs": [
    {
     "name": "stderr",
     "output_type": "stream",
     "text": [
      "C:\\Anaconda3\\lib\\site-packages\\ipykernel_launcher.py:15: UserWarning: FixedFormatter should only be used together with FixedLocator\n",
      "  from ipykernel import kernelapp as app\n"
     ]
    },
    {
     "data": {
      "image/png": "[encoded data removed]",
      "text/plain": [
       "<Figure size 216x144 with 1 Axes>"
      ]
     },
     "metadata": {},
     "output_type": "display_data"
    },
    {
     "name": "stderr",
     "output_type": "stream",
     "text": [
      "C:\\Anaconda3\\lib\\site-packages\\ipykernel_launcher.py:35: MatplotlibDeprecationWarning: savefig() got unexpected keyword argument \"quality\" which is no longer supported as of 3.3 and will become an error two minor releases later\n"
     ]
    }
   ],
   "source": [
    "plt.figure(figsize=(3,2))\n",
    "sns.set_theme(style=\"whitegrid\")\n",
    "\n",
    "#sns.violinplot(x=EEG, y=cor, data=data,palette=\"Set3\" )\n",
    "\n",
    "ax = sns.violinplot(x=classify, y=ds_R2,hue = classify, data=data,palette=\"Set3\" )\n",
    "#ax = sns.boxplot(x=classify, y=R2, data=data,palette=\"Set3\",width=0.5, whis=2 )\n",
    "plt.xlabel('')\n",
    "\n",
    "#plt.xticks(ticks = [])\n",
    "plt.ylabel('')\n",
    "plt.ylabel(\"\", fontdict={'weight': 'normal', 'size': 25})\n",
    "#plt.yticks(ticks = [])\n",
    "plt.ylim(-0.5,1)\n",
    "ax.set_yticklabels(ax.get_yticks(), size = 15)\n",
    "#将y轴主刻度标签设置为0.5的倍数\n",
    "#ymajorLocator = MultipleLocator(0.5)\n",
    "#ax.yaxis.set_major_locator(ymajorLocator)\n",
    "# 添加图形标题\n",
    "plt.title('')\n",
    "# 设置图例\n",
    "plt.legend([\"resting\",\"task\",\"bimodality\"],loc = 'lower center', ncol = 3)\n",
    "ax.legend()\n",
    "#plt.legend(loc=[3, 0])\n",
    "plt.legend( bbox_to_anchor=(1,1), loc='center left',ncol = 3)\n",
    "leg = plt.gca().get_legend()\n",
    "\n",
    "ltext = leg.get_texts()\n",
    "\n",
    "plt.setp(ltext, fontsize='xx-large')\n",
    "#fig.tight_layout()#调整整体空白\n",
    "# 显示图形\n",
    "plt.show()\n",
    "fig = ax.get_figure()\n",
    "fig.savefig(\"backward_R2.png\",quality=95,bbox_inches = \"tight\",dpi=800)"
   ]
  },
  {
   "cell_type": "code",
   "execution_count": 14,
   "metadata": {},
   "outputs": [],
   "source": [
    "plt.setp?"
   ]
  },
  {
   "cell_type": "code",
   "execution_count": 7,
   "metadata": {},
   "outputs": [],
   "source": [
    "plt.legend?"
   ]
  },
  {
   "cell_type": "code",
   "execution_count": 11,
   "metadata": {},
   "outputs": [],
   "source": [
    "sns.violinplot?"
   ]
  }
 ],
 "metadata": {
  "kernelspec": {
   "display_name": "Python 3",
   "language": "python",
   "name": "python3"
  },
  "language_info": {
   "codemirror_mode": {
    "name": "ipython",
    "version": 3
   },
   "file_extension": ".py",
   "mimetype": "text/x-python",
   "name": "python",
   "nbconvert_exporter": "python",
   "pygments_lexer": "ipython3",
   "version": "3.7.9"
  }
 },
 "nbformat": 4,
 "nbformat_minor": 4
}
