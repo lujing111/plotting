{
 "cells": [
  {
   "cell_type": "code",
   "execution_count": 16,
   "metadata": {},
   "outputs": [],
   "source": [
    "import mne\n",
    "import numpy as np\n",
    "import scipy.io\n",
    "import matplotlib.pyplot as plt\n",
    "import pandas as pd\n",
    "from  pandas import DataFrame\n",
    "from pandas import Series, ExcelWriter\n",
    "#设置通道名\n",
    "biosemi_montage = mne.channels.make_standard_montage('biosemi64')"
   ]
  },
  {
   "cell_type": "code",
   "execution_count": 17,
   "metadata": {
    "scrolled": true
   },
   "outputs": [
    {
     "data": {
      "text/plain": [
       "['Fp1',\n",
       " 'AF7',\n",
       " 'AF3',\n",
       " 'F1',\n",
       " 'F3',\n",
       " 'F5',\n",
       " 'F7',\n",
       " 'FT7',\n",
       " 'FC5',\n",
       " 'FC3',\n",
       " 'FC1',\n",
       " 'C1',\n",
       " 'C3',\n",
       " 'C5',\n",
       " 'T7',\n",
       " 'TP7',\n",
       " 'CP5',\n",
       " 'CP3',\n",
       " 'CP1',\n",
       " 'P1',\n",
       " 'P3',\n",
       " 'P5',\n",
       " 'P7',\n",
       " 'P9',\n",
       " 'PO7',\n",
       " 'PO3',\n",
       " 'O1',\n",
       " 'Iz',\n",
       " 'Oz',\n",
       " 'POz',\n",
       " 'Pz',\n",
       " 'CPz',\n",
       " 'Fpz',\n",
       " 'Fp2',\n",
       " 'AF8',\n",
       " 'AF4',\n",
       " 'AFz',\n",
       " 'Fz',\n",
       " 'F2',\n",
       " 'F4',\n",
       " 'F6',\n",
       " 'F8',\n",
       " 'FT8',\n",
       " 'FC6',\n",
       " 'FC4',\n",
       " 'FC2',\n",
       " 'FCz',\n",
       " 'Cz',\n",
       " 'C2',\n",
       " 'C4',\n",
       " 'C6',\n",
       " 'T8',\n",
       " 'TP8',\n",
       " 'CP6',\n",
       " 'CP4',\n",
       " 'CP2',\n",
       " 'P2',\n",
       " 'P4',\n",
       " 'P6',\n",
       " 'P8',\n",
       " 'P10',\n",
       " 'PO8',\n",
       " 'PO4',\n",
       " 'O2']"
      ]
     },
     "execution_count": 17,
     "metadata": {},
     "output_type": "execute_result"
    }
   ],
   "source": [
    "biosemi_montage.ch_names"
   ]
  },
  {
   "cell_type": "code",
   "execution_count": 18,
   "metadata": {},
   "outputs": [
    {
     "name": "stdout",
     "output_type": "stream",
     "text": [
      "C:\\Users\\Administrator\\Desktop\\final_analysis\\总的预测表现\n"
     ]
    }
   ],
   "source": [
    "cd \"C:\\Users\\Administrator\\Desktop\\final_analysis\\总的预测表现\""
   ]
  },
  {
   "cell_type": "code",
   "execution_count": 19,
   "metadata": {},
   "outputs": [],
   "source": [
    "data = pd.read_excel('EEG_fi_ds.xlsx', 'Sheet6')"
   ]
  },
  {
   "cell_type": "code",
   "execution_count": 20,
   "metadata": {},
   "outputs": [
    {
     "data": {
      "text/plain": [
       "array(['MMN', 'P300'], dtype=object)"
      ]
     },
     "execution_count": 20,
     "metadata": {},
     "output_type": "execute_result"
    }
   ],
   "source": [
    "column = np.array(data.columns[:])\n",
    "column = column[:]\n",
    "column"
   ]
  },
  {
   "cell_type": "code",
   "execution_count": 22,
   "metadata": {},
   "outputs": [
    {
     "name": "stderr",
     "output_type": "stream",
     "text": [
      "C:\\Anaconda3\\envs\\mne\\lib\\site-packages\\ipykernel_launcher.py:30: MatplotlibDeprecationWarning: savefig() got unexpected keyword argument \"quality\" which is no longer supported as of 3.3 and will become an error two minor releases later\n"
     ]
    },
    {
     "data": {
      "text/plain": [
       "<function matplotlib.pyplot.show(close=None, block=None)>"
      ]
     },
     "execution_count": 22,
     "metadata": {},
     "output_type": "execute_result"
    },
    {
     "data": {
      "image/png": "[encoded data removed]",
      "text/plain": [
       "<Figure size 432x288 with 6 Axes>"
      ]
     },
     "metadata": {
      "needs_background": "light"
     },
     "output_type": "display_data"
    },
    {
     "data": {
      "text/plain": [
       "<Figure size 144x144 with 0 Axes>"
      ]
     },
     "metadata": {},
     "output_type": "display_data"
    },
    {
     "data": {
      "text/plain": [
       "<Figure size 144x144 with 0 Axes>"
      ]
     },
     "metadata": {},
     "output_type": "display_data"
    }
   ],
   "source": [
    "fig, ax = plt.subplots(1, 5)\n",
    "ax = ax.flatten()\n",
    "    \n",
    "for i in range(2):\n",
    "    c = column[i]\n",
    "    #读取频段\n",
    "    a = data[data.columns[i]]\n",
    "    #将数据转换成array\n",
    "    b = np.asarray(np.mat(a).T)\n",
    "    #创建info对象\n",
    "    info = mne.create_info(ch_names=biosemi_montage.ch_names, sfreq=250.,\n",
    "                            ch_types='eeg')\n",
    "    #创建evokeds对象                       \n",
    "    evoked = mne.EvokedArray(b, info)\n",
    "    #去除未分析的电极\n",
    "    names = [\"F3\",\"F4\",\"F7\",\"F8\",\"Fz\",\"C3\",\"Cz\",\"C4\",\"P3\",\"P4\",\"Pz\",\"P7\",\"P8\",\"O1\",\"O2\"]\n",
    "    #names = [\"F3\",\"F4\",\"F7\",\"F8\",\"Fz\",\"FC5\",\"FC2\",\"FC1\",\"FC6\",\"C3\",\"C4\",\"Cz\"]\n",
    "    evoked.info['bads'].extend([ch for ch in biosemi_montage.ch_names if ch not in names])\n",
    "    evoked.drop_channels(evoked.info['bads'])\n",
    "    #evokeds设置通道\n",
    "    evoked.set_montage(biosemi_montage)\n",
    "\n",
    "    #fig = plt.plot()\n",
    "    plt.figure(figsize=(2,2))\n",
    "    im,cn = mne.viz.plot_topomap(evoked.data[:, 0], evoked.info,show=False\n",
    "                 , contours=0,cmap = 'OrRd',vmin=0, vmax=0.2, axes=ax[i])\n",
    "    ax[i].set_title(c)\n",
    "#fraction调节colorbar的大小\n",
    "fig.colorbar(im, ax=[ax[0], ax[1]], fraction=0.01, pad=0.05)\n",
    "fig.savefig('TASK_important_feature_to_DS_topograph.png'.format(c), format='png', quality=95, dpi=800,bbox_inches='tight')\n",
    "#plt.savefig('pig.png', bbox_inches='tight')\n",
    "plt.show\n",
    "    #显示color bar\n",
    "   # plt.colorbar(im)\n",
    "   # plt.savefig('column[i].png', quality=95, dpi=800)\n",
    "   # plt.savefig('{}(close).png'.format(c), format='png', quality=95, dpi=800)"
   ]
  }
 ],
 "metadata": {
  "kernelspec": {
   "display_name": "Python 3",
   "language": "python",
   "name": "python3"
  },
  "language_info": {
   "codemirror_mode": {
    "name": "ipython",
    "version": 3
   },
   "file_extension": ".py",
   "mimetype": "text/x-python",
   "name": "python",
   "nbconvert_exporter": "python",
   "pygments_lexer": "ipython3",
   "version": "3.7.9"
  }
 },
 "nbformat": 4,
 "nbformat_minor": 4
}
