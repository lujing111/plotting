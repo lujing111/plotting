{
  "nbformat": 4,
  "nbformat_minor": 0,
  "metadata": {
    "colab": {
      "name": "maybe_useful.ipynb",
      "provenance": [],
      "collapsed_sections": [],
      "toc_visible": true
    },
    "kernelspec": {
      "name": "python3",
      "display_name": "Python 3"
    },
    "language_info": {
      "name": "python"
    }
  },
  "cells": [
    {
      "cell_type": "markdown",
      "metadata": {
        "id": "yryMlbmuF1b8"
      },
      "source": [
        "## 降维"
      ]
    },
    {
      "cell_type": "code",
      "metadata": {
        "id": "dD92NByEF4bV"
      },
      "source": [
        "from sklearn.decomposition import PCA\n",
        "from sklearn.manifold import TSNE"
      ],
      "execution_count": null,
      "outputs": []
    },
    {
      "cell_type": "code",
      "metadata": {
        "id": "rTOBGlRUF5WC"
      },
      "source": [
        "def plot_dim_reduction(resp, label, ax=None):\n",
        "    \"\"\"Plot dimensionality-reduced population responses (using tSNE)\n",
        "    first PCA, then tSNE\n",
        "\n",
        "    Args:\n",
        "      resp (numpy array): n_stimuli x n_neurons matrix with population responses\n",
        "      label (numpy array): 1D array of length stimuli with labels\n",
        "      ax (matplotlib axes): axes onto which to plot\n",
        "\n",
        "    \"\"\"\n",
        "    if ax is None:\n",
        "        ax = plt.gca()\n",
        "\n",
        "    # First do PCA to reduce dimensionality to 200 dimensions so that tSNE is faster\n",
        "    resp_lowd = PCA(n_components=min(300, resp.shape[1])).fit_transform(resp)\n",
        "\n",
        "    # Then do tSNE to reduce dimensionality to 2 dimensions\n",
        "    resp_lowd = TSNE(n_components=2, perplexity=40, n_jobs=-1).fit_transform(resp_lowd)\n",
        "\n",
        "    # Plot dimensionality-reduced population responses\n",
        "    # on 2D axes, with each point colored by stimulus orientation\n",
        "    scat = ax.scatter(resp_lowd[:, 0], resp_lowd[:, 1], c=stim, cmap='twilight')\n",
        "\n",
        "    cbar = plt.colorbar(scat, ax=ax, label='stimulus labels')\n",
        "    ax.set_xlabel('dimension 1')\n",
        "    ax.set_ylabel('dimension 2')\n",
        "    ax.set_xticks([])\n",
        "    ax.set_yticks([])\n",
        "\n",
        "plot_dim_reduction(V1_response, training_labels)"
      ],
      "execution_count": null,
      "outputs": []
    },
    {
      "cell_type": "markdown",
      "metadata": {
        "id": "qxLBlQGzGgUL"
      },
      "source": [
        "## RDM\n",
        "RDM 我写了两种方法，一种是用相关算的，一种用距离算的。"
      ]
    },
    {
      "cell_type": "code",
      "metadata": {
        "id": "vX8OdxHCGfxz"
      },
      "source": [
        "def plot_corr_matrix(rdm, ax=None, vmax=2.0):\n",
        "    \"\"\"Plot dissimilarity matrix\n",
        "\n",
        "    Args:\n",
        "      rdm (numpy array): n_stimuli x n_stimuli representational dissimilarity \n",
        "        matrix\n",
        "      ax (matplotlib axes): axes onto which to plot\n",
        "\n",
        "    Returns:\n",
        "      nothing\n",
        "    \n",
        "    \"\"\"\n",
        "    if ax is None:\n",
        "      ax = plt.gca()\n",
        "\n",
        "    cax = ax.imshow(rdm, vmin=0.0, vmax=vmax)\n",
        "    ax.set_aspect('auto')\n",
        "\n",
        "    if rdm.shape[0] == 4:\n",
        "        ax.set_xticks([i for i in range(4)])\n",
        "        ax.set_yticks([i for i in list(range(4))[::-1]])\n",
        "        ax_label = list(labels2num.keys())\n",
        "        ax.set_xticklabels([ax_label[i] for i in range(4)], rotation=30)\n",
        "        ax.set_yticklabels([ax_label[i] for i in list(range(4))[::-1]], rotation=40)\n",
        "    else:\n",
        "        ax.set_xticks([])\n",
        "        ax.set_yticks([])\n",
        "    cbar = plt.colorbar(cax, ax=ax, label='correlation coefficient')\n",
        "\n",
        "def RDM(resp, methods='corr'):\n",
        "    \"\"\"Compute the representational dissimilarity matrix (RDM)\n",
        "\n",
        "    Args:\n",
        "      resp: S x N matrix with population responses to\n",
        "        each stimulus in each row\n",
        "    \n",
        "    Returns:\n",
        "      np.ndarray: S x S representational dissimilarity matrix\n",
        "    \"\"\"\n",
        "    if methods == 'corr':\n",
        "        zresp = zscore(resp, axis=1)  # z-score responses to each stimulus\n",
        "        result = 1 - (zresp @ zresp.T) / zresp.shape[1]\n",
        "    elif methods == 'dist':\n",
        "        # pdist just returns the upper triangle of the pairwise distance matrix\n",
        "        pair_dist = pdist(resp)\n",
        "        # to get the whole (20, 20) array we can use squareform\n",
        "        result = squareform(pair_dist)\n",
        "    return result"
      ],
      "execution_count": null,
      "outputs": []
    },
    {
      "cell_type": "code",
      "metadata": {
        "id": "0l07gJOWGo5U"
      },
      "source": [
        "distance = RDM(V1_avg, 'corr')\n",
        "plot_corr_matrix(distance, vmax=2)"
      ],
      "execution_count": null,
      "outputs": []
    },
    {
      "cell_type": "markdown",
      "metadata": {
        "id": "KsoXPgqPIxTU"
      },
      "source": [
        "## decoding"
      ]
    },
    {
      "cell_type": "markdown",
      "metadata": {
        "id": "call1RPhI00i"
      },
      "source": [
        "1.1 划分训练集和测试集"
      ]
    },
    {
      "cell_type": "code",
      "metadata": {
        "id": "6smfurpUGsIp"
      },
      "source": [
        "## "
      ],
      "execution_count": null,
      "outputs": []
    },
    {
      "cell_type": "markdown",
      "metadata": {
        "id": "BOdTo3O_KpRM"
      },
      "source": [
        "# violinplot"
      ]
    },
    {
      "cell_type": "code",
      "metadata": {
        "id": "nR6UxHMgK90O"
      },
      "source": [
        "plt.figure(figsize=(2,2))\n",
        "\n",
        "a = sns.violinplot(x = \"...\", # 指定x轴的数据\n",
        "               y = \"...\", # 指定y轴的数据\n",
        "               data = open_delta, # 指定绘图的数据集\n",
        "               linewidth = 0.8,\n",
        "               hue = \"...\",   #基于什么变量分类\n",
        "               width = 1,\n",
        "               scale = 'area'\n",
        "               #order = ['ds_forward','ds_backward','ds'] # 指定x轴刻度标签的顺序\n",
        "            \n",
        "              )\n",
        "plt.xlabel('')\n",
        "plt.xticks(ticks = [])\n",
        "plt.ylabel('')\n",
        "plt.ylabel('...', fontdict={'weight': 'normal', 'size': 20})\n",
        "#plt.yticks(ticks = [])\n",
        "a.set_ylim(-1,1)\n",
        "# 添加图形标题\n",
        "plt.title('...')\n",
        "# 设置图例\n",
        "#plt.legend(loc = 'lower center', ncol = 3)\n",
        "#plt.legend()\n",
        "#plt.legend(loc=[3, 0])\n",
        "#plt.legend( bbox_to_anchor=(1,1), loc='center left',ncol = 3)\n",
        "a.legend_.remove()\n",
        "#fig.tight_layout()#调整整体空白\n",
        "# 显示图形\n",
        "plt.show()\n",
        "fig = a.get_figure()\n",
        "fig.savefig(\"violinplot.png\",quality=95, dpi=800)"
      ],
      "execution_count": null,
      "outputs": []
    },
    {
      "cell_type": "markdown",
      "metadata": {
        "id": "JQcwDzlSMPgu"
      },
      "source": [
        "# pointplot"
      ]
    },
    {
      "cell_type": "code",
      "metadata": {
        "id": "0Sl8u88QMOv4"
      },
      "source": [
        "i = 3\n",
        "sns.set_style(\"white\") \n",
        "plt.figure(figsize=(3,3))\n",
        "ax=sns.pointplot(x=x, y=y, data=data,alpha = 0.3, capsize=0.1)\n",
        "ax.spines['top'].set_visible(False)  #去掉上边框\n",
        "ax.spines['right'].set_visible(False) #去掉右边框\n",
        "ax.set_title('...'.format(i),fontdict={'weight':'normal','size': 20})\n",
        "ax.set(xlabel='...', ylabel='relative power')\n",
        "plt.xlabel('...', fontdict={'weight': 'normal', 'size': 15})\n",
        "plt.ylabel('...', fontdict={'weight': 'normal', 'size': 15})\n",
        "ax.set_ylim(8, 11)\n",
        "#ax.legend_.remove()\n",
        "plt.show()\n",
        "fig = ax.get_figure()\n",
        "fig.savefig(\"pointplot.png\",quality=95, dpi=800)"
      ],
      "execution_count": null,
      "outputs": []
    },
    {
      "cell_type": "markdown",
      "metadata": {
        "id": "WTD3u6U1MlKx"
      },
      "source": [
        "# scatterplot"
      ]
    },
    {
      "cell_type": "code",
      "metadata": {
        "id": "ZNzdl9VoNLDv"
      },
      "source": [
        "plt.figure(figsize=(3,2))\n",
        "a = sns.regplot(x, y,scatter_kws={'s':8,\"alpha\":0.9})\n",
        "a.spines['top'].set_visible(False)  #去掉上边框\n",
        "a.spines['right'].set_visible(False) #去掉右边框\n",
        "a.spines['bottom'].set_linewidth(1.5)#x轴变粗\n",
        "a.spines['left'].set_linewidth(1.5)#y轴变粗\n",
        "a.set_xlabel(\"...\",labelpad = 3, fontdict={'weight': 'normal', 'size': 13}) #设置x轴名称\n",
        "a.set_ylabel('') #设置y轴名称\n",
        "a.set_xlim(-3, 3)\n",
        "a.set_ylim(-2.5, 2.5)\n",
        "a.tick_params(axis='both',pad=5,direction='in',width=1.5,labelsize=12)#坐标轴上刻度的粗细\n",
        "plt.show()\n",
        "#fig.tight_layout()\n",
        "fig = a.get_figure()\n",
        "fig.savefig(\"....png\",quality=95, dpi=800)"
      ],
      "execution_count": null,
      "outputs": []
    },
    {
      "cell_type": "markdown",
      "metadata": {
        "id": "12x8p4MjNHfg"
      },
      "source": [
        "# heatmap"
      ]
    },
    {
      "cell_type": "code",
      "metadata": {
        "id": "j0Q8SLXfNL98"
      },
      "source": [
        "f, ax = plt.subplots(figsize=(15, 15))\n",
        "electrodes = [\"F3\",\"F4\",\"FZ\",\"F7\",\"F8\",\"C3\",\"CZ\",\"C4\",\"P3\",\"P4\",\"PZ\",\"P7\",\"P8\",\"O1\",\"O2\"]\n",
        "frequency = [\"open_delta\",\"open_theta\",\"open_alpha\",\"open_beta\",\"close_delta\",\"close_theta\",\"close_alpha\",\"close_beta\",\"alpha_peak\"]\n",
        "sns.heatmap(cor_vocabulary,vmin = -0.5,vmax=0.5,fmt= '.3f',linewidths = 0.05,annot=True,cmap = plt.cm.RdYlBu,square=True)\n",
        "ax.set_ylim([8, 0])\n",
        "ax.set_xlabel('eletrodes')\n",
        "ax.set_ylabel('frequency')\n",
        "ax.set_xticklabels([\"F3\",\"F4\",\"FZ\",\"F7\",\"F8\",\"C3\",\"CZ\",\"C4\",\"P3\",\"P4\",\"PZ\",\"P7\",\"P8\",\"O1\",\"O2\"])\n",
        "ax.set_yticklabels([\"open_delta\",\"open_theta\",\"open_alpha\",\"open_beta\",\"close_delta\",\"close_theta\",\"close_alpha\",\"close_beta\",\"alpha_peak\"])\n",
        "plt.yticks( rotation=0)\n",
        "plt.show()\n",
        "plt.savefig('%s.png'%(ax.get_title()),quality=95,dpi = 800)"
      ],
      "execution_count": null,
      "outputs": []
    },
    {
      "cell_type": "markdown",
      "metadata": {
        "id": "0xXgzFamOAwR"
      },
      "source": [
        "# Barplot with scatter and error bar"
      ]
    },
    {
      "cell_type": "code",
      "metadata": {
        "id": "ZYA5jWiqOImf"
      },
      "source": [
        "i =3\n",
        "sns.set(style=\"white\")\n",
        "plt.figure(figsize=(3,3))\n",
        "ax = sns.barplot(x=\"...\", y=\"...\", data=data, capsize=.12, ci=\"sd\",  errcolor='k')\n",
        "sns.swarmplot(x=\"...\", y=\"...\", data=data, color=\"0\", alpha=.3)\n",
        "ax.set_ylim(-20, 50)\n",
        "#ax.set_title('classification accuracy in open & close& all'.format(i))\n",
        "#ax.set(xlabel='state', ylabel='accuracy')\n",
        "ax.spines['bottom'].set_linewidth(1.5)#x轴变粗\n",
        "ax.spines['left'].set_linewidth(1.5)#y轴变粗\n",
        "ax.spines['top'].set_visible(False)  #去掉上边框\n",
        "ax.spines['right'].set_visible(False) #去掉右边框\n",
        "ax.set_xlabel('...',labelpad = 5,fontdict={'weight': 'normal', 'size': 13}) #设置x轴名称\n",
        "ax.set_ylabel('...',labelpad = 5,fontdict={'weight': 'normal', 'size': 13}) #设置y轴名称\n",
        "\n",
        "fig = ax.get_figure()\n",
        "fig.savefig(\"....png\",quality=95, dpi=800)"
      ],
      "execution_count": null,
      "outputs": []
    }
  ]
}